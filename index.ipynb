{
  "cells": [
    {
      "cell_type": "raw",
      "metadata": {},
      "source": [
        "---\n",
        "title: \"Health Data Science Student Hub\"\n",
        "---"
      ],
      "id": "4f802274"
    },
    {
      "cell_type": "markdown",
      "metadata": {},
      "source": [
        "```{html}\n",
        "body {\n",
        " background-image: url(images/223_UNSW_CBDRH_credit_AnnaKucera.jpg);\n",
        "}\n",
        "```"
      ],
      "id": "fccbee49"
    }
  ],
  "metadata": {
    "kernelspec": {
      "display_name": "Python 3",
      "language": "python",
      "name": "python3"
    }
  },
  "nbformat": 4,
  "nbformat_minor": 5
}